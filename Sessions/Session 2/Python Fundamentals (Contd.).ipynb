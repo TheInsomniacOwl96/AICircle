{
 "cells": [
  {
   "cell_type": "markdown",
   "metadata": {},
   "source": [
    "# Python Fundamentals (Contd.)"
   ]
  },
  {
   "cell_type": "markdown",
   "metadata": {},
   "source": [
    "## Iteration"
   ]
  },
  {
   "cell_type": "markdown",
   "metadata": {},
   "source": [
<<<<<<< HEAD
    "Often we use a **for** or **while** loop to go through a list of items or the contents of a file. We are looking for some data we can scan through."
=======
    "Often we use a **for** or **while** loop to go through a list of items or the contents of a file. We are looking for some data something we can scan through."
>>>>>>> 66039bd546c35c97298bfbc0fc7fd0ece6118767
   ]
  },
  {
   "cell_type": "markdown",
   "metadata": {},
   "source": [
    "#### Definite loops using for"
   ]
  },
  {
   "cell_type": "code",
<<<<<<< HEAD
   "execution_count": 1,
=======
   "execution_count": 2,
>>>>>>> 66039bd546c35c97298bfbc0fc7fd0ece6118767
   "metadata": {},
   "outputs": [
    {
     "name": "stdout",
     "output_type": "stream",
     "text": [
      "Happy New Year: Joseph\n",
      "Happy New Year: Glenn\n",
      "Happy New Year: Sally\n",
      "Goodbye!\n"
     ]
    }
   ],
   "source": [
    "friends = ['Joseph', 'Glenn', 'Sally']\n",
    "for friend in friends:\n",
    "    print('Happy New Year:', friend)\n",
    "print('Goodbye!')"
   ]
  },
  {
   "cell_type": "markdown",
   "metadata": {},
   "source": [
    "#### The while statement"
   ]
  },
  {
   "cell_type": "code",
<<<<<<< HEAD
   "execution_count": 2,
=======
   "execution_count": 3,
>>>>>>> 66039bd546c35c97298bfbc0fc7fd0ece6118767
   "metadata": {},
   "outputs": [
    {
     "name": "stdout",
     "output_type": "stream",
     "text": [
      "5\n",
      "4\n",
      "3\n",
      "2\n",
      "1\n",
      "Blastoff!\n"
     ]
    }
   ],
   "source": [
    "n = 5\n",
    "while n > 0:\n",
    "    print(n)\n",
    "    n = n - 1\n",
    "print('Blastoff!')"
   ]
  },
  {
   "cell_type": "markdown",
   "metadata": {},
   "source": [
    "##### Infinite loops"
   ]
  },
  {
<<<<<<< HEAD
   "cell_type": "code",
   "execution_count": null,
   "metadata": {},
   "outputs": [],
   "source": [
    "#Avoid running in working window\n",
=======
   "cell_type": "raw",
   "metadata": {},
   "source": [
    "#Avoid running in working terminal\n",
>>>>>>> 66039bd546c35c97298bfbc0fc7fd0ece6118767
    "\n",
    "n = 10\n",
    "while True:\n",
    "    print(n, end=' ')\n",
    "    n = n - 1\n",
    "print('Done!')"
   ]
  },
  {
   "cell_type": "markdown",
   "metadata": {},
   "source": [
<<<<<<< HEAD
    "##### Infinite loops and break"
=======
    "##### “Infinite loops” and break"
>>>>>>> 66039bd546c35c97298bfbc0fc7fd0ece6118767
   ]
  },
  {
   "cell_type": "code",
<<<<<<< HEAD
   "execution_count": 3,
=======
   "execution_count": 4,
>>>>>>> 66039bd546c35c97298bfbc0fc7fd0ece6118767
   "metadata": {},
   "outputs": [
    {
     "name": "stdout",
     "output_type": "stream",
     "text": [
      "I will remember whatever you tell me. Type quit when you are done.\n",
<<<<<<< HEAD
      "I kept my house keys on the table.\n",
      "I will remember this: I kept my house keys on the table.\n",
=======
      "\n",
      "I will remember this: \n",
      "I will remember whatever you tell me. Type quit when you are done.\n",
      "French fries\n",
      "I will remember this: French fries\n",
      "I will remember whatever you tell me. Type quit when you are done.\n",
      "i kept my keys on the table\n",
      "I will remember this: i kept my keys on the table\n",
>>>>>>> 66039bd546c35c97298bfbc0fc7fd0ece6118767
      "I will remember whatever you tell me. Type quit when you are done.\n",
      "quit\n",
      "Peace!\n"
     ]
    }
   ],
   "source": [
    "while True:\n",
    "    line = input('I will remember whatever you tell me. Type quit when you are done.\\n')\n",
    "    if line == 'quit':\n",
    "        break\n",
    "    print('I will remember this:', line)\n",
    "print('Peace!')"
   ]
  },
  {
   "cell_type": "markdown",
   "metadata": {},
   "source": [
    "\n",
    "##### Finishing iterations with continue"
   ]
  },
  {
   "cell_type": "code",
<<<<<<< HEAD
   "execution_count": 4,
=======
   "execution_count": 5,
>>>>>>> 66039bd546c35c97298bfbc0fc7fd0ece6118767
   "metadata": {},
   "outputs": [
    {
     "name": "stdout",
     "output_type": "stream",
     "text": [
<<<<<<< HEAD
      "Enter anything except #. Enter done to finish\n",
      "#\n",
      "Enter anything except #. Enter done to finish\n",
      "done\n",
=======
      "> #\n",
      "> hey!\n",
      "hey!\n",
      "> done\n",
>>>>>>> 66039bd546c35c97298bfbc0fc7fd0ece6118767
      "Done!\n"
     ]
    }
   ],
   "source": [
    "while True:\n",
<<<<<<< HEAD
    "    line = input('Enter anything except #. Enter done to finish\\n')\n",
=======
    "    line = input('> ')\n",
>>>>>>> 66039bd546c35c97298bfbc0fc7fd0ece6118767
    "    if line[0] == '#':\n",
    "        continue\n",
    "    if line == 'done':\n",
    "        break\n",
    "    print(line)\n",
    "print('Done!')"
   ]
  },
  {
   "cell_type": "markdown",
   "metadata": {},
   "source": [
    "##### You may want to use loops for counting and summing"
   ]
  },
  {
   "cell_type": "code",
<<<<<<< HEAD
   "execution_count": 5,
=======
   "execution_count": 7,
>>>>>>> 66039bd546c35c97298bfbc0fc7fd0ece6118767
   "metadata": {},
   "outputs": [
    {
     "name": "stdout",
     "output_type": "stream",
     "text": [
      "Count:  6\n"
     ]
    }
   ],
   "source": [
    "#Counting loop\n",
    "\n",
    "count = 0\n",
    "for itervar in [3, 41, 12, 9, 74, 15]:\n",
    "    count = count + 1\n",
    "print('Count: ', count)"
   ]
  },
  {
   "cell_type": "code",
<<<<<<< HEAD
   "execution_count": 6,
=======
   "execution_count": 8,
>>>>>>> 66039bd546c35c97298bfbc0fc7fd0ece6118767
   "metadata": {},
   "outputs": [
    {
     "name": "stdout",
     "output_type": "stream",
     "text": [
      "Total:  154\n"
     ]
    }
   ],
   "source": [
    "#Summing loop\n",
    "\n",
    "total = 0\n",
    "for itervar in [3, 41, 12, 9, 74, 15]:\n",
    "    total = total + itervar\n",
    "print('Total: ', total)"
   ]
  },
  {
   "cell_type": "markdown",
   "metadata": {},
   "source": [
    "## Functions"
   ]
  },
  {
   "cell_type": "markdown",
   "metadata": {},
   "source": [
    "#### Built-in functions examples"
   ]
  },
  {
   "cell_type": "code",
<<<<<<< HEAD
   "execution_count": 7,
=======
   "execution_count": 9,
>>>>>>> 66039bd546c35c97298bfbc0fc7fd0ece6118767
   "metadata": {},
   "outputs": [
    {
     "name": "stdout",
     "output_type": "stream",
     "text": [
      "Big freakin number is 50\n",
      "The smallest one in list is 10\n",
      "Length of the list is 5\n"
     ]
    }
   ],
   "source": [
    "num_list = [10,20,30,40,50]\n",
    "\n",
    "largest = max(num_list)\n",
    "\n",
    "smallest = min(num_list)\n",
    "\n",
    "print('Big freakin number is', largest)\n",
    "print('The smallest one in list is', smallest)\n",
    "\n",
    "print('Length of the list is', len(num_list))\n"
   ]
  },
  {
   "cell_type": "markdown",
   "metadata": {},
   "source": [
    "#### Type conversion functions"
   ]
  },
  {
   "cell_type": "code",
<<<<<<< HEAD
   "execution_count": 8,
=======
   "execution_count": 10,
>>>>>>> 66039bd546c35c97298bfbc0fc7fd0ece6118767
   "metadata": {},
   "outputs": [
    {
     "data": {
      "text/plain": [
       "32"
      ]
     },
<<<<<<< HEAD
     "execution_count": 8,
=======
     "execution_count": 10,
>>>>>>> 66039bd546c35c97298bfbc0fc7fd0ece6118767
     "metadata": {},
     "output_type": "execute_result"
    }
   ],
   "source": [
    "int('32')"
   ]
  },
  {
   "cell_type": "code",
<<<<<<< HEAD
   "execution_count": 9,
=======
   "execution_count": 11,
>>>>>>> 66039bd546c35c97298bfbc0fc7fd0ece6118767
   "metadata": {},
   "outputs": [
    {
     "data": {
      "text/plain": [
       "3"
      ]
     },
<<<<<<< HEAD
     "execution_count": 9,
=======
     "execution_count": 11,
>>>>>>> 66039bd546c35c97298bfbc0fc7fd0ece6118767
     "metadata": {},
     "output_type": "execute_result"
    }
   ],
   "source": [
    "int(3.99999)"
   ]
  },
  {
   "cell_type": "code",
<<<<<<< HEAD
   "execution_count": 10,
=======
   "execution_count": 12,
>>>>>>> 66039bd546c35c97298bfbc0fc7fd0ece6118767
   "metadata": {},
   "outputs": [
    {
     "ename": "ValueError",
     "evalue": "invalid literal for int() with base 10: 'Hello'",
     "output_type": "error",
     "traceback": [
      "\u001b[1;31m---------------------------------------------------------------------------\u001b[0m",
      "\u001b[1;31mValueError\u001b[0m                                Traceback (most recent call last)",
<<<<<<< HEAD
      "\u001b[1;32m<ipython-input-10-297739a291e0>\u001b[0m in \u001b[0;36m<module>\u001b[1;34m()\u001b[0m\n\u001b[0;32m      1\u001b[0m \u001b[1;31m#Trying to convert raw text to integer value using int() is foolish! Don't you think?\u001b[0m\u001b[1;33m\u001b[0m\u001b[1;33m\u001b[0m\u001b[0m\n\u001b[0;32m      2\u001b[0m \u001b[1;33m\u001b[0m\u001b[0m\n\u001b[1;32m----> 3\u001b[1;33m \u001b[0mint\u001b[0m\u001b[1;33m(\u001b[0m\u001b[1;34m'Hello'\u001b[0m\u001b[1;33m)\u001b[0m\u001b[1;33m\u001b[0m\u001b[0m\n\u001b[0m",
=======
      "\u001b[1;32m<ipython-input-12-2d497d432d16>\u001b[0m in \u001b[0;36m<module>\u001b[1;34m()\u001b[0m\n\u001b[0;32m      1\u001b[0m \u001b[1;31m#Trying to convert text to integer value is foolish! Don't you think?\u001b[0m\u001b[1;33m\u001b[0m\u001b[1;33m\u001b[0m\u001b[0m\n\u001b[0;32m      2\u001b[0m \u001b[1;33m\u001b[0m\u001b[0m\n\u001b[1;32m----> 3\u001b[1;33m \u001b[0mint\u001b[0m\u001b[1;33m(\u001b[0m\u001b[1;34m'Hello'\u001b[0m\u001b[1;33m)\u001b[0m\u001b[1;33m\u001b[0m\u001b[0m\n\u001b[0m",
>>>>>>> 66039bd546c35c97298bfbc0fc7fd0ece6118767
      "\u001b[1;31mValueError\u001b[0m: invalid literal for int() with base 10: 'Hello'"
     ]
    }
   ],
   "source": [
<<<<<<< HEAD
    "#Trying to convert raw text to integer value using int() is foolish! Don't you think?\n",
=======
    "#Trying to convert text to integer value is foolish! Don't you think?\n",
>>>>>>> 66039bd546c35c97298bfbc0fc7fd0ece6118767
    "\n",
    "int('Hello')"
   ]
  },
  {
   "cell_type": "code",
<<<<<<< HEAD
   "execution_count": 11,
=======
   "execution_count": 13,
>>>>>>> 66039bd546c35c97298bfbc0fc7fd0ece6118767
   "metadata": {},
   "outputs": [
    {
     "data": {
      "text/plain": [
       "32.0"
      ]
     },
<<<<<<< HEAD
     "execution_count": 11,
=======
     "execution_count": 13,
>>>>>>> 66039bd546c35c97298bfbc0fc7fd0ece6118767
     "metadata": {},
     "output_type": "execute_result"
    }
   ],
   "source": [
    "float(32)"
   ]
  },
  {
   "cell_type": "code",
<<<<<<< HEAD
   "execution_count": 12,
=======
   "execution_count": 14,
>>>>>>> 66039bd546c35c97298bfbc0fc7fd0ece6118767
   "metadata": {},
   "outputs": [
    {
     "data": {
      "text/plain": [
       "'32'"
      ]
     },
<<<<<<< HEAD
     "execution_count": 12,
=======
     "execution_count": 14,
>>>>>>> 66039bd546c35c97298bfbc0fc7fd0ece6118767
     "metadata": {},
     "output_type": "execute_result"
    }
   ],
   "source": [
    "str(32)"
   ]
  },
  {
   "cell_type": "code",
<<<<<<< HEAD
   "execution_count": 13,
=======
   "execution_count": 15,
>>>>>>> 66039bd546c35c97298bfbc0fc7fd0ece6118767
   "metadata": {},
   "outputs": [
    {
     "data": {
      "text/plain": [
       "int"
      ]
     },
<<<<<<< HEAD
     "execution_count": 13,
=======
     "execution_count": 15,
>>>>>>> 66039bd546c35c97298bfbc0fc7fd0ece6118767
     "metadata": {},
     "output_type": "execute_result"
    }
   ],
   "source": [
    "type(32)"
   ]
  },
  {
   "cell_type": "code",
<<<<<<< HEAD
   "execution_count": 14,
=======
   "execution_count": 16,
>>>>>>> 66039bd546c35c97298bfbc0fc7fd0ece6118767
   "metadata": {},
   "outputs": [
    {
     "data": {
      "text/plain": [
       "str"
      ]
     },
<<<<<<< HEAD
     "execution_count": 14,
=======
     "execution_count": 16,
>>>>>>> 66039bd546c35c97298bfbc0fc7fd0ece6118767
     "metadata": {},
     "output_type": "execute_result"
    }
   ],
   "source": [
<<<<<<< HEAD
    "type('Hey!')"
=======
    "type('hey!')"
>>>>>>> 66039bd546c35c97298bfbc0fc7fd0ece6118767
   ]
  },
  {
   "cell_type": "markdown",
   "metadata": {},
   "source": [
    "#### Using some of the built-in functions"
   ]
  },
  {
   "cell_type": "markdown",
   "metadata": {},
   "source": [
    "###### Random function module"
   ]
  },
  {
   "cell_type": "code",
<<<<<<< HEAD
   "execution_count": 15,
=======
   "execution_count": 20,
>>>>>>> 66039bd546c35c97298bfbc0fc7fd0ece6118767
   "metadata": {},
   "outputs": [
    {
     "name": "stdout",
     "output_type": "stream",
     "text": [
<<<<<<< HEAD
      "0.5567349598270842\n",
      "0.06870527356933409\n",
      "0.6192519712435882\n",
      "0.38512724362529005\n",
      "0.6725806300453318\n",
      "0.5027623613519945\n",
      "0.6166810595305455\n",
      "0.18039777873876806\n",
      "0.009017180000409852\n",
      "0.8369224333607131\n"
=======
      "0.756891588463949\n",
      "0.5798778933071472\n",
      "0.6966414853987655\n",
      "0.36342446639216053\n",
      "0.49916668913761664\n",
      "0.5968616332846179\n",
      "0.4247345659272548\n",
      "0.13361709670006539\n",
      "0.5666539148919099\n",
      "0.7770641156923074\n"
>>>>>>> 66039bd546c35c97298bfbc0fc7fd0ece6118767
     ]
    }
   ],
   "source": [
    "import random\n",
    "for i in range(10):\n",
    "    x = random.random()\n",
    "    print(x)"
   ]
  },
  {
   "cell_type": "code",
<<<<<<< HEAD
   "execution_count": 16,
=======
   "execution_count": 22,
>>>>>>> 66039bd546c35c97298bfbc0fc7fd0ece6118767
   "metadata": {},
   "outputs": [
    {
     "data": {
      "text/plain": [
<<<<<<< HEAD
       "9"
      ]
     },
     "execution_count": 16,
=======
       "7"
      ]
     },
     "execution_count": 22,
>>>>>>> 66039bd546c35c97298bfbc0fc7fd0ece6118767
     "metadata": {},
     "output_type": "execute_result"
    }
   ],
   "source": [
    "random.randint(5, 10)"
   ]
  },
  {
   "cell_type": "code",
<<<<<<< HEAD
   "execution_count": 17,
=======
   "execution_count": 24,
>>>>>>> 66039bd546c35c97298bfbc0fc7fd0ece6118767
   "metadata": {},
   "outputs": [
    {
     "data": {
      "text/plain": [
       "2.0"
      ]
     },
<<<<<<< HEAD
     "execution_count": 17,
=======
     "execution_count": 24,
>>>>>>> 66039bd546c35c97298bfbc0fc7fd0ece6118767
     "metadata": {},
     "output_type": "execute_result"
    }
   ],
   "source": [
    "import math\n",
    "\n",
    "math.sqrt(4)"
   ]
  },
  {
   "cell_type": "code",
<<<<<<< HEAD
   "execution_count": 18,
=======
   "execution_count": 25,
>>>>>>> 66039bd546c35c97298bfbc0fc7fd0ece6118767
   "metadata": {},
   "outputs": [
    {
     "data": {
      "text/plain": [
       "0.7071067811865476"
      ]
     },
<<<<<<< HEAD
     "execution_count": 18,
=======
     "execution_count": 25,
>>>>>>> 66039bd546c35c97298bfbc0fc7fd0ece6118767
     "metadata": {},
     "output_type": "execute_result"
    }
   ],
   "source": [
    "degrees = 45\n",
    "radians = degrees / 360.0 * 2 * math.pi\n",
    "math.sin(radians)"
   ]
  },
  {
   "cell_type": "markdown",
   "metadata": {},
   "source": [
    "#### Creating new functions"
   ]
  },
  {
   "cell_type": "code",
<<<<<<< HEAD
   "execution_count": 19,
=======
   "execution_count": 26,
>>>>>>> 66039bd546c35c97298bfbc0fc7fd0ece6118767
   "metadata": {},
   "outputs": [
    {
     "name": "stdout",
     "output_type": "stream",
     "text": [
<<<<<<< HEAD
      "Okay! 'Something'\n"
=======
      "I'm a lumberjack, and I'm -okay.\n",
      "I sleep all night and I work all day.\n"
>>>>>>> 66039bd546c35c97298bfbc0fc7fd0ece6118767
     ]
    }
   ],
   "source": [
<<<<<<< HEAD
    "#Defining a simple function \n",
    "\n",
    "def print_something():\n",
    "    print(\"Okay! 'Something'\")\n",
    "    \n",
    "#Calling the function\n",
    "print_something()"
=======
    "#Defining a function\n",
    "\n",
    "def print_lyrics():\n",
    "    print(\"I'm a lumberjack, and I'm -okay.\")\n",
    "    print('I sleep all night and I work all day.')\n",
    "    \n",
    "#Calling the function\n",
    "print_lyrics()"
>>>>>>> 66039bd546c35c97298bfbc0fc7fd0ece6118767
   ]
  },
  {
   "cell_type": "code",
<<<<<<< HEAD
   "execution_count": 20,
   "metadata": {},
   "outputs": [
    {
     "name": "stdout",
     "output_type": "stream",
     "text": [
      "Enter first number\n",
      "15\n",
      "Enter second number\n",
      "25\n"
     ]
    },
    {
     "data": {
      "text/plain": [
       "40"
      ]
     },
     "execution_count": 20,
=======
   "execution_count": 27,
   "metadata": {},
   "outputs": [
    {
     "data": {
      "text/plain": [
       "30"
      ]
     },
     "execution_count": 27,
>>>>>>> 66039bd546c35c97298bfbc0fc7fd0ece6118767
     "metadata": {},
     "output_type": "execute_result"
    }
   ],
   "source": [
<<<<<<< HEAD
    "#Including arguments in the function definition\n",
    "def sum(a,b):\n",
    "    return a+b\n",
    "\n",
    "\n",
    "a = int(input('Enter first number\\n'))\n",
    "b = int(input('Enter second number\\n'))\n",
    "\n",
    "#Calling the function\n",
    "sum(a,b)"
   ]
=======
    "def sum(a,b):\n",
    "    return a+b\n",
    "\n",
    "sum(10,20)"
   ]
  },
  {
   "cell_type": "code",
   "execution_count": null,
   "metadata": {},
   "outputs": [],
   "source": []
>>>>>>> 66039bd546c35c97298bfbc0fc7fd0ece6118767
  }
 ],
 "metadata": {
  "kernelspec": {
   "display_name": "Python 3",
   "language": "python",
   "name": "python3"
  },
  "language_info": {
   "codemirror_mode": {
    "name": "ipython",
    "version": 3
   },
   "file_extension": ".py",
   "mimetype": "text/x-python",
   "name": "python",
   "nbconvert_exporter": "python",
   "pygments_lexer": "ipython3",
   "version": "3.6.6"
  }
 },
 "nbformat": 4,
 "nbformat_minor": 2
}
